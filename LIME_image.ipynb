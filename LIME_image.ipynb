{
  "nbformat": 4,
  "nbformat_minor": 0,
  "metadata": {
    "colab": {
      "name": "LIME_image.ipynb",
      "private_outputs": true,
      "provenance": [],
      "authorship_tag": "ABX9TyPZXXsdNfr4GJ7WBRP606Bg",
      "include_colab_link": true
    },
    "kernelspec": {
      "name": "python3",
      "display_name": "Python 3"
    },
    "language_info": {
      "name": "python"
    }
  },
  "cells": [
    {
      "cell_type": "markdown",
      "metadata": {
        "id": "view-in-github",
        "colab_type": "text"
      },
      "source": [
        "<a href=\"https://colab.research.google.com/github/taegukang35/ML-study/blob/main/LIME_image.ipynb\" target=\"_parent\"><img src=\"https://colab.research.google.com/assets/colab-badge.svg\" alt=\"Open In Colab\"/></a>"
      ]
    },
    {
      "cell_type": "code",
      "execution_count": null,
      "metadata": {
        "id": "IPizra7_VQqA"
      },
      "outputs": [],
      "source": [
        "import numpy as np\n",
        "import matplotlib.pyplot as plt\n",
        "from skimage.color import gray2rgb, rgb2gray\n",
        "from skimage.util import montage as montage2d\n",
        "from sklearn.datasets import fetch_olivetti_faces"
      ]
    },
    {
      "cell_type": "code",
      "source": [
        "faces = fetch_olivetti_faces()\n",
        "\n",
        "X_vec = np.stack([gray2rgb(iimg) for iimg in faces.data.reshape((-1,64,64))],0)\n",
        "y_vec =  faces.target.astype(np.uint8)"
      ],
      "metadata": {
        "id": "JA4zxCTybVNa"
      },
      "execution_count": null,
      "outputs": []
    },
    {
      "cell_type": "code",
      "source": [
        "fig,ax1 = plt.subplots(1,1,figsize=(8,8))\n",
        "ax1.imshow(montage2d(X_vec[:,:,:,0]),cmap='gray',interpolation='none')\n",
        "ax1.set_title('All Faces')\n",
        "ax1.axis('off')"
      ],
      "metadata": {
        "id": "GxlAtpjUccGO"
      },
      "execution_count": null,
      "outputs": []
    },
    {
      "cell_type": "code",
      "source": [
        "y_vec"
      ],
      "metadata": {
        "id": "AmIxLFH_cwkz"
      },
      "execution_count": null,
      "outputs": []
    },
    {
      "cell_type": "code",
      "source": [
        "index = 105\n",
        "plt.imshow(X_vec[index],cmap='gray')\n",
        "plt.title('{} index face'.format(index))\n",
        "plt.axis('off')"
      ],
      "metadata": {
        "id": "FX-_FuHsdC9T"
      },
      "execution_count": null,
      "outputs": []
    },
    {
      "cell_type": "code",
      "source": [
        "from sklearn.model_selection import train_test_split\n",
        "\n",
        "X_train,X_test,y_train,y_test = train_test_split(X_vec,y_vec,train_size=0.70)"
      ],
      "metadata": {
        "id": "aq2YenlmdsT-"
      },
      "execution_count": null,
      "outputs": []
    },
    {
      "cell_type": "code",
      "source": [
        "from sklearn.pipeline import Pipeline\n",
        "from sklearn.preprocessing import Normalizer\n",
        "from sklearn.neural_network import MLPClassifier\n",
        "\n",
        "class PipeStep(object):\n",
        "    def __init__(self,step_func):\n",
        "        self.__step_func=step_func\n",
        "    def fit(self,*args):\n",
        "        return self\n",
        "    def transform(self,X):\n",
        "        return self.__step_func(X)"
      ],
      "metadata": {
        "id": "mVuXsh-1e-Dq"
      },
      "execution_count": null,
      "outputs": []
    },
    {
      "cell_type": "code",
      "source": [
        "# (400x64x64x3) 데이터를 흑백으로 바꿈-> RGB 3채널을 1채널로 합산 (400x64x64x1)\n",
        "makegray_step = PipeStep(lambda img_list: [rgb2gray(img) for img in img_list])\n",
        "# 64x64 크기의 이미지를 한 줄로 펼쳐준다 64x64 = 4096 (MLP 적용하기 위함)\n",
        "flatten_step = PipeStep(lambda img_list: [img.ravel() for img in img_list])\n",
        "simple_pipeline = Pipeline([\n",
        "                            ('Make Gray',makegray_step),\n",
        "                            ('Flatten Image',flatten_step),\n",
        "                            ('Normalize',Normalizer()),\n",
        "                            ('MLP',MLPClassifier(\n",
        "                                activation='relu',\n",
        "                                alpha = 1e-7,\n",
        "                                epsilon = 1e-6,\n",
        "                                hidden_layer_sizes=(800,120),\n",
        "                                random_state=1))\n",
        "                            ])"
      ],
      "metadata": {
        "id": "LC0MFmQhfTcN"
      },
      "execution_count": null,
      "outputs": []
    },
    {
      "cell_type": "code",
      "source": [
        "simple_pipeline.fit(X_train,y_train)"
      ],
      "metadata": {
        "id": "zZmPvCcxhfs_"
      },
      "execution_count": null,
      "outputs": []
    },
    {
      "cell_type": "code",
      "source": [
        "pipe_pred_test = simple_pipeline.predict(X_test)\n",
        "pipe_pred_prop = simple_pipeline.predict_proba(X_test)"
      ],
      "metadata": {
        "id": "D4gYhJ4ihjJh"
      },
      "execution_count": null,
      "outputs": []
    },
    {
      "cell_type": "code",
      "source": [
        "from sklearn.metrics import classification_report\n",
        "print(classification_report(y_true=y_test,y_pred=pipe_pred_test))"
      ],
      "metadata": {
        "id": "JREh_nAlnX3c"
      },
      "execution_count": null,
      "outputs": []
    },
    {
      "cell_type": "code",
      "source": [
        "!pip install lime"
      ],
      "metadata": {
        "id": "i-lBK9McutLQ"
      },
      "execution_count": null,
      "outputs": []
    },
    {
      "cell_type": "code",
      "source": [
        "from lime import lime_image\n",
        "from lime.wrappers.scikit_image import SegmentationAlgorithm\n",
        "\n",
        "explainer = lime_image.LimeImageExplainer()\n",
        "\n",
        "# 이미지 분할 알고리즘: quickshift, slick, felzenszwalb\n",
        "segmenter = SegmentationAlgorithm('slic',n_segments =100,compactness=1,sigma=1)"
      ],
      "metadata": {
        "id": "l_tvi4kEniVm"
      },
      "execution_count": null,
      "outputs": []
    },
    {
      "cell_type": "code",
      "source": [
        "olivetti_test_index = 0\n",
        "exp = explainer.explain_instance(X_test[olivetti_test_index],\n",
        "                                 classifier_fn=simple_pipeline.predict_proba,\n",
        "                                 top_labels = 6,\n",
        "                                 num_samples = 1000,\n",
        "                                 segmentation_fn=segmenter)"
      ],
      "metadata": {
        "id": "nxlSj9lCuqYE"
      },
      "execution_count": null,
      "outputs": []
    },
    {
      "cell_type": "code",
      "source": [
        "from skimage.color import label2rgb\n",
        "# 캔버스 설정\n",
        "fig,((ax1,ax2),(ax3,ax4)) = plt.subplots(2,2,figsize=(8,8))\n",
        "\n",
        "# 예측에 도움이 되는 세그먼트 출력 \n",
        "temp,mask = exp.get_image_and_mask(y_test[olivetti_test_index],positive_only=True,num_features=8,hide_rest=False)\n",
        "ax1.imshow(label2rgb(mask,temp,bg_label=0),interpolation='nearest')\n",
        "ax1.set_title('Positive Region for {}'.format(y_test[olivetti_test_index]))\n",
        "\n",
        "# 모든 세그먼트 출력\n",
        "temp,mask = exp.get_image_and_mask(y_test[olivetti_test_index],positive_only=False,num_features=8,hide_rest=False)\n",
        "ax2.imshow(label2rgb(4-mask,temp,bg_label=0),interpolation='nearest')\n",
        "ax2.set_title('Positive/Negative Regions for {}'.format(y_test[olivetti_test_index]))\n",
        "\n",
        "# 이미지만 출력\n",
        "ax3.imshow(temp,interpolation='nearest')\n",
        "ax3.set_title('Show output image only')\n",
        "\n",
        "# 마스크만 출력\n",
        "ax4.imshow(mask,interpolation='nearest')\n",
        "ax4.set_title('Show mask only')"
      ],
      "metadata": {
        "id": "ciDlXDlawEOs"
      },
      "execution_count": null,
      "outputs": []
    },
    {
      "cell_type": "code",
      "source": [
        ""
      ],
      "metadata": {
        "id": "NIwHV70Vw3ky"
      },
      "execution_count": null,
      "outputs": []
    }
  ]
}